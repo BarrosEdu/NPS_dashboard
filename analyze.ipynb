{
 "cells": [
  {
   "cell_type": "code",
   "execution_count": 2,
   "metadata": {},
   "outputs": [],
   "source": [
    "import pandas as pd\n",
    "\n",
    "pd.set_option('display.max_columns', 70)\n",
    "import warnings\n",
    "warnings.filterwarnings('ignore')\n"
   ]
  },
  {
   "cell_type": "code",
   "execution_count": 3,
   "metadata": {},
   "outputs": [],
   "source": [
    "\n",
    "df = pd.read_parquet('input/nps_data_full.parquet',engine='fastparquet')"
   ]
  },
  {
   "cell_type": "code",
   "execution_count": 4,
   "metadata": {},
   "outputs": [],
   "source": [
    "df_1 = df[['FB_UID','WEEK_COMMENCING','STORE_LOCATIONCLASS','RATING_NPS','FB_SENTIMENT','FB_CHANNEL']]"
   ]
  },
  {
   "cell_type": "code",
   "execution_count": 5,
   "metadata": {},
   "outputs": [],
   "source": [
    "df_1['WEEK_COMMENCING'] = pd.to_datetime(df_1['WEEK_COMMENCING'],yearfirst=True)"
   ]
  },
  {
   "cell_type": "code",
   "execution_count": 6,
   "metadata": {},
   "outputs": [],
   "source": [
    "# Group by day and calculate NPS for each day\n",
    "grouped_data = df_1.groupby(df_1['WEEK_COMMENCING'].dt.date)\n",
    "\n",
    "# Initialize empty lists to store NPS scores for each day\n",
    "nps_scores = []\n",
    "\n",
    "# Loop through each day's data\n",
    "for day, group in grouped_data:\n",
    "    sample_size = group['FB_UID'].count()\n",
    "    promoter = group[group['RATING_NPS'] >= 9]['FB_UID'].count()\n",
    "    detractor = group[group['RATING_NPS'] <= 6]['FB_UID'].count()\n",
    "\n",
    "    # Calculate NPS for the current day\n",
    "    percentage_promoters = (promoter / sample_size) * 100\n",
    "    percentage_detractors = (detractor / sample_size) * 100\n",
    "\n",
    "    NPS = percentage_promoters - percentage_detractors\n",
    "\n",
    "    # Store the NPS score and the corresponding date in a list\n",
    "    nps_scores.append({'Date': day, 'NPS': NPS})\n",
    "\n",
    "# Create a new DataFrame with NPS scores for each day\n",
    "nps_df = pd.DataFrame(nps_scores)"
   ]
  },
  {
   "cell_type": "code",
   "execution_count": 7,
   "metadata": {},
   "outputs": [
    {
     "name": "stdout",
     "output_type": "stream",
     "text": [
      "<class 'pandas.core.frame.DataFrame'>\n",
      "RangeIndex: 451591 entries, 0 to 451590\n",
      "Data columns (total 6 columns):\n",
      " #   Column               Non-Null Count   Dtype         \n",
      "---  ------               --------------   -----         \n",
      " 0   FB_UID               451591 non-null  object        \n",
      " 1   WEEK_COMMENCING      451591 non-null  datetime64[ns]\n",
      " 2   STORE_LOCATIONCLASS  451591 non-null  object        \n",
      " 3   RATING_NPS           450958 non-null  float64       \n",
      " 4   FB_SENTIMENT         451591 non-null  object        \n",
      " 5   FB_CHANNEL           451588 non-null  object        \n",
      "dtypes: datetime64[ns](1), float64(1), object(4)\n",
      "memory usage: 20.7+ MB\n"
     ]
    }
   ],
   "source": [
    "df_1.info()"
   ]
  },
  {
   "cell_type": "code",
   "execution_count": 8,
   "metadata": {},
   "outputs": [
    {
     "data": {
      "text/html": [
       "<div>\n",
       "<style scoped>\n",
       "    .dataframe tbody tr th:only-of-type {\n",
       "        vertical-align: middle;\n",
       "    }\n",
       "\n",
       "    .dataframe tbody tr th {\n",
       "        vertical-align: top;\n",
       "    }\n",
       "\n",
       "    .dataframe thead th {\n",
       "        text-align: right;\n",
       "    }\n",
       "</style>\n",
       "<table border=\"1\" class=\"dataframe\">\n",
       "  <thead>\n",
       "    <tr style=\"text-align: right;\">\n",
       "      <th></th>\n",
       "      <th>FB_CHANNEL</th>\n",
       "      <th>count</th>\n",
       "    </tr>\n",
       "  </thead>\n",
       "  <tbody>\n",
       "    <tr>\n",
       "      <th>0</th>\n",
       "      <td>Store</td>\n",
       "      <td>244993</td>\n",
       "    </tr>\n",
       "    <tr>\n",
       "      <th>1</th>\n",
       "      <td>Delivery</td>\n",
       "      <td>105072</td>\n",
       "    </tr>\n",
       "    <tr>\n",
       "      <th>2</th>\n",
       "      <td>Online</td>\n",
       "      <td>67873</td>\n",
       "    </tr>\n",
       "    <tr>\n",
       "      <th>3</th>\n",
       "      <td>Merch</td>\n",
       "      <td>23376</td>\n",
       "    </tr>\n",
       "    <tr>\n",
       "      <th>4</th>\n",
       "      <td>Other</td>\n",
       "      <td>7930</td>\n",
       "    </tr>\n",
       "    <tr>\n",
       "      <th>5</th>\n",
       "      <td>CSC</td>\n",
       "      <td>2332</td>\n",
       "    </tr>\n",
       "    <tr>\n",
       "      <th>6</th>\n",
       "      <td>csc</td>\n",
       "      <td>11</td>\n",
       "    </tr>\n",
       "    <tr>\n",
       "      <th>7</th>\n",
       "      <td>other</td>\n",
       "      <td>1</td>\n",
       "    </tr>\n",
       "  </tbody>\n",
       "</table>\n",
       "</div>"
      ],
      "text/plain": [
       "  FB_CHANNEL   count\n",
       "0      Store  244993\n",
       "1   Delivery  105072\n",
       "2     Online   67873\n",
       "3      Merch   23376\n",
       "4      Other    7930\n",
       "5        CSC    2332\n",
       "6        csc      11\n",
       "7      other       1"
      ]
     },
     "execution_count": 8,
     "metadata": {},
     "output_type": "execute_result"
    }
   ],
   "source": [
    "pd.DataFrame(df_1['FB_CHANNEL'].value_counts()).reset_index()"
   ]
  }
 ],
 "metadata": {
  "kernelspec": {
   "display_name": "venv",
   "language": "python",
   "name": "python3"
  },
  "language_info": {
   "codemirror_mode": {
    "name": "ipython",
    "version": 3
   },
   "file_extension": ".py",
   "mimetype": "text/x-python",
   "name": "python",
   "nbconvert_exporter": "python",
   "pygments_lexer": "ipython3",
   "version": "3.11.6"
  }
 },
 "nbformat": 4,
 "nbformat_minor": 2
}
