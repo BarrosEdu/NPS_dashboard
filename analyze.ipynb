{
 "cells": [
  {
   "cell_type": "code",
   "execution_count": 2,
   "metadata": {},
   "outputs": [],
   "source": [
    "import pandas as pd\n",
    "import matplotlib as plt\n",
    "pd.set_option('display.max_columns', 70)\n",
    "import warnings\n",
    "warnings.filterwarnings('ignore')\n"
   ]
  },
  {
   "cell_type": "code",
   "execution_count": 3,
   "metadata": {},
   "outputs": [],
   "source": [
    "\n",
    "df = pd.read_parquet('input/nps_data_full.parquet',engine='fastparquet')"
   ]
  },
  {
   "cell_type": "code",
   "execution_count": 4,
   "metadata": {},
   "outputs": [],
   "source": [
    "df_1 = df[['FB_UID','WEEK_COMMENCING','STORE_LOCATIONCLASS','RATING_NPS','FB_SENTIMENT','FB_CHANNEL']]"
   ]
  },
  {
   "cell_type": "code",
   "execution_count": 5,
   "metadata": {},
   "outputs": [],
   "source": [
    "df_1['WEEK_COMMENCING'] = pd.to_datetime(df_1['WEEK_COMMENCING'],yearfirst=True)"
   ]
  },
  {
   "cell_type": "code",
   "execution_count": 6,
   "metadata": {},
   "outputs": [],
   "source": [
    "# Group by day and calculate NPS for each day\n",
    "grouped_data = df_1.groupby(df_1['WEEK_COMMENCING'].dt.date)\n",
    "\n",
    "# Initialize empty lists to store NPS scores for each day\n",
    "nps_scores = []\n",
    "\n",
    "# Loop through each day's data\n",
    "for day, group in grouped_data:\n",
    "    sample_size = group['FB_UID'].count()\n",
    "    promoter = group[group['RATING_NPS'] >= 9]['FB_UID'].count()\n",
    "    detractor = group[group['RATING_NPS'] <= 6]['FB_UID'].count()\n",
    "\n",
    "    # Calculate NPS for the current day\n",
    "    percentage_promoters = (promoter / sample_size) * 100\n",
    "    percentage_detractors = (detractor / sample_size) * 100\n",
    "\n",
    "    NPS = percentage_promoters - percentage_detractors\n",
    "\n",
    "    # Store the NPS score and the corresponding date in a list\n",
    "    nps_scores.append({'Date': day, 'NPS': NPS})\n",
    "\n",
    "# Create a new DataFrame with NPS scores for each day\n",
    "nps_df = pd.DataFrame(nps_scores)"
   ]
  },
  {
   "cell_type": "code",
   "execution_count": 24,
   "metadata": {},
   "outputs": [],
   "source": []
  },
  {
   "cell_type": "code",
   "execution_count": 25,
   "metadata": {},
   "outputs": [
    {
     "data": {
      "text/html": [
       "<div>\n",
       "<style scoped>\n",
       "    .dataframe tbody tr th:only-of-type {\n",
       "        vertical-align: middle;\n",
       "    }\n",
       "\n",
       "    .dataframe tbody tr th {\n",
       "        vertical-align: top;\n",
       "    }\n",
       "\n",
       "    .dataframe thead th {\n",
       "        text-align: right;\n",
       "    }\n",
       "</style>\n",
       "<table border=\"1\" class=\"dataframe\">\n",
       "  <thead>\n",
       "    <tr style=\"text-align: right;\">\n",
       "      <th></th>\n",
       "      <th>RATING_NPS</th>\n",
       "      <th>FB_CHANNEL</th>\n",
       "    </tr>\n",
       "  </thead>\n",
       "  <tbody>\n",
       "    <tr>\n",
       "      <th>0</th>\n",
       "      <td>9.0</td>\n",
       "      <td>Store</td>\n",
       "    </tr>\n",
       "    <tr>\n",
       "      <th>1</th>\n",
       "      <td>10.0</td>\n",
       "      <td>Delivery</td>\n",
       "    </tr>\n",
       "    <tr>\n",
       "      <th>2</th>\n",
       "      <td>1.0</td>\n",
       "      <td>Delivery</td>\n",
       "    </tr>\n",
       "    <tr>\n",
       "      <th>3</th>\n",
       "      <td>2.0</td>\n",
       "      <td>Delivery</td>\n",
       "    </tr>\n",
       "    <tr>\n",
       "      <th>4</th>\n",
       "      <td>10.0</td>\n",
       "      <td>Store</td>\n",
       "    </tr>\n",
       "    <tr>\n",
       "      <th>...</th>\n",
       "      <td>...</td>\n",
       "      <td>...</td>\n",
       "    </tr>\n",
       "    <tr>\n",
       "      <th>451586</th>\n",
       "      <td>8.0</td>\n",
       "      <td>Store</td>\n",
       "    </tr>\n",
       "    <tr>\n",
       "      <th>451587</th>\n",
       "      <td>10.0</td>\n",
       "      <td>Delivery</td>\n",
       "    </tr>\n",
       "    <tr>\n",
       "      <th>451588</th>\n",
       "      <td>9.0</td>\n",
       "      <td>Store</td>\n",
       "    </tr>\n",
       "    <tr>\n",
       "      <th>451589</th>\n",
       "      <td>3.0</td>\n",
       "      <td>Online</td>\n",
       "    </tr>\n",
       "    <tr>\n",
       "      <th>451590</th>\n",
       "      <td>10.0</td>\n",
       "      <td>Store</td>\n",
       "    </tr>\n",
       "  </tbody>\n",
       "</table>\n",
       "<p>451591 rows × 2 columns</p>\n",
       "</div>"
      ],
      "text/plain": [
       "        RATING_NPS FB_CHANNEL\n",
       "0              9.0      Store\n",
       "1             10.0   Delivery\n",
       "2              1.0   Delivery\n",
       "3              2.0   Delivery\n",
       "4             10.0      Store\n",
       "...            ...        ...\n",
       "451586         8.0      Store\n",
       "451587        10.0   Delivery\n",
       "451588         9.0      Store\n",
       "451589         3.0     Online\n",
       "451590        10.0      Store\n",
       "\n",
       "[451591 rows x 2 columns]"
      ]
     },
     "execution_count": 25,
     "metadata": {},
     "output_type": "execute_result"
    }
   ],
   "source": []
  },
  {
   "cell_type": "code",
   "execution_count": 30,
   "metadata": {},
   "outputs": [
    {
     "data": {
      "text/html": [
       "<div>\n",
       "<style scoped>\n",
       "    .dataframe tbody tr th:only-of-type {\n",
       "        vertical-align: middle;\n",
       "    }\n",
       "\n",
       "    .dataframe tbody tr th {\n",
       "        vertical-align: top;\n",
       "    }\n",
       "\n",
       "    .dataframe thead th {\n",
       "        text-align: right;\n",
       "    }\n",
       "</style>\n",
       "<table border=\"1\" class=\"dataframe\">\n",
       "  <thead>\n",
       "    <tr style=\"text-align: right;\">\n",
       "      <th></th>\n",
       "      <th>FB_CHANNEL</th>\n",
       "      <th>NPS</th>\n",
       "    </tr>\n",
       "  </thead>\n",
       "  <tbody>\n",
       "    <tr>\n",
       "      <th>0</th>\n",
       "      <td>CSC</td>\n",
       "      <td>-41.037736</td>\n",
       "    </tr>\n",
       "    <tr>\n",
       "      <th>1</th>\n",
       "      <td>Delivery</td>\n",
       "      <td>22.283767</td>\n",
       "    </tr>\n",
       "    <tr>\n",
       "      <th>2</th>\n",
       "      <td>Merch</td>\n",
       "      <td>-29.346338</td>\n",
       "    </tr>\n",
       "    <tr>\n",
       "      <th>3</th>\n",
       "      <td>Online</td>\n",
       "      <td>15.316842</td>\n",
       "    </tr>\n",
       "    <tr>\n",
       "      <th>4</th>\n",
       "      <td>Other</td>\n",
       "      <td>-53.240858</td>\n",
       "    </tr>\n",
       "    <tr>\n",
       "      <th>5</th>\n",
       "      <td>Store</td>\n",
       "      <td>59.835179</td>\n",
       "    </tr>\n",
       "    <tr>\n",
       "      <th>6</th>\n",
       "      <td>csc</td>\n",
       "      <td>-9.090909</td>\n",
       "    </tr>\n",
       "    <tr>\n",
       "      <th>7</th>\n",
       "      <td>other</td>\n",
       "      <td>-100.000000</td>\n",
       "    </tr>\n",
       "  </tbody>\n",
       "</table>\n",
       "</div>"
      ],
      "text/plain": [
       "  FB_CHANNEL         NPS\n",
       "0        CSC  -41.037736\n",
       "1   Delivery   22.283767\n",
       "2      Merch  -29.346338\n",
       "3     Online   15.316842\n",
       "4      Other  -53.240858\n",
       "5      Store   59.835179\n",
       "6        csc   -9.090909\n",
       "7      other -100.000000"
      ]
     },
     "execution_count": 30,
     "metadata": {},
     "output_type": "execute_result"
    }
   ],
   "source": [
    "\n",
    "# Group by \"FB_CHANNEL\" and calculate NPS for each touchpoint\n",
    "df_channel = df_1.copy()\n",
    "df_channel = df_channel[['RATING_NPS','FB_CHANNEL']]\n",
    "touchpoint_nps = df_channel.groupby('FB_CHANNEL')['RATING_NPS'].apply(lambda x: (x >= 9).sum() / len(x) - (x <= 6).sum() / len(x)).reset_index()\n",
    "touchpoint_nps.rename(columns={'RATING_NPS': 'NPS'}, inplace=True)\n",
    "touchpoint_nps['NPS']= touchpoint_nps['NPS']*100\n",
    "touchpoint_nps"
   ]
  },
  {
   "cell_type": "code",
   "execution_count": 33,
   "metadata": {},
   "outputs": [
    {
     "data": {
      "text/plain": [
       "<Axes: xlabel='FB_CHANNEL'>"
      ]
     },
     "execution_count": 33,
     "metadata": {},
     "output_type": "execute_result"
    },
    {
     "data": {
      "image/png": "[encoded data removed]",
      "text/plain": [
       "<Figure size 640x480 with 1 Axes>"
      ]
     },
     "metadata": {},
     "output_type": "display_data"
    }
   ],
   "source": [
    "touchpoint_nps.plot.bar(x='FB_CHANNEL',y='NPS')"
   ]
  }
 ],
 "metadata": {
  "kernelspec": {
   "display_name": "venv",
   "language": "python",
   "name": "python3"
  },
  "language_info": {
   "codemirror_mode": {
    "name": "ipython",
    "version": 3
   },
   "file_extension": ".py",
   "mimetype": "text/x-python",
   "name": "python",
   "nbconvert_exporter": "python",
   "pygments_lexer": "ipython3",
   "version": "3.11.6"
  }
 },
 "nbformat": 4,
 "nbformat_minor": 2
}
